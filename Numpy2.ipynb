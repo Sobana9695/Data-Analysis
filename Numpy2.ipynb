{
 "cells": [
  {
   "cell_type": "code",
   "execution_count": 1,
   "id": "a04dfc44",
   "metadata": {},
   "outputs": [],
   "source": [
    "import numpy as np"
   ]
  },
  {
   "cell_type": "code",
   "execution_count": 2,
   "id": "479502d0",
   "metadata": {},
   "outputs": [],
   "source": [
    "x=np.array([1,2,3,4,5])"
   ]
  },
  {
   "cell_type": "code",
   "execution_count": 3,
   "id": "4963ee3c",
   "metadata": {},
   "outputs": [
    {
     "data": {
      "text/plain": [
       "15"
      ]
     },
     "execution_count": 3,
     "metadata": {},
     "output_type": "execute_result"
    }
   ],
   "source": [
    "np.sum(x)"
   ]
  },
  {
   "cell_type": "code",
   "execution_count": 4,
   "id": "be61c344",
   "metadata": {},
   "outputs": [],
   "source": [
    "x1=np.arange(1,10).reshape(3,3)"
   ]
  },
  {
   "cell_type": "code",
   "execution_count": 5,
   "id": "ea2f78a6",
   "metadata": {
    "scrolled": true
   },
   "outputs": [
    {
     "data": {
      "text/plain": [
       "array([[1, 2, 3],\n",
       "       [4, 5, 6],\n",
       "       [7, 8, 9]])"
      ]
     },
     "execution_count": 5,
     "metadata": {},
     "output_type": "execute_result"
    }
   ],
   "source": [
    "x1"
   ]
  },
  {
   "cell_type": "code",
   "execution_count": 6,
   "id": "849079da",
   "metadata": {},
   "outputs": [
    {
     "data": {
      "text/plain": [
       "45"
      ]
     },
     "execution_count": 6,
     "metadata": {},
     "output_type": "execute_result"
    }
   ],
   "source": [
    "np.sum(x1)"
   ]
  },
  {
   "cell_type": "code",
   "execution_count": 7,
   "id": "594ac9a3",
   "metadata": {},
   "outputs": [
    {
     "data": {
      "text/plain": [
       "array([12, 15, 18])"
      ]
     },
     "execution_count": 7,
     "metadata": {},
     "output_type": "execute_result"
    }
   ],
   "source": [
    "np.sum(x1,axis=0)"
   ]
  },
  {
   "cell_type": "code",
   "execution_count": 8,
   "id": "f6bb82d9",
   "metadata": {},
   "outputs": [
    {
     "data": {
      "text/plain": [
       "array([ 6, 15, 24])"
      ]
     },
     "execution_count": 8,
     "metadata": {},
     "output_type": "execute_result"
    }
   ],
   "source": [
    "np.sum(x1,axis=1)"
   ]
  },
  {
   "cell_type": "code",
   "execution_count": 9,
   "id": "5f9716d0",
   "metadata": {},
   "outputs": [
    {
     "data": {
      "text/plain": [
       "362880"
      ]
     },
     "execution_count": 9,
     "metadata": {},
     "output_type": "execute_result"
    }
   ],
   "source": [
    "np.prod(x1)"
   ]
  },
  {
   "cell_type": "code",
   "execution_count": 10,
   "id": "5f1be475",
   "metadata": {},
   "outputs": [
    {
     "data": {
      "text/plain": [
       "array([ 28,  80, 162])"
      ]
     },
     "execution_count": 10,
     "metadata": {},
     "output_type": "execute_result"
    }
   ],
   "source": [
    "np.prod(x1,axis=0)"
   ]
  },
  {
   "cell_type": "code",
   "execution_count": 11,
   "id": "6168f66d",
   "metadata": {},
   "outputs": [
    {
     "data": {
      "text/plain": [
       "array([  6, 120, 504])"
      ]
     },
     "execution_count": 11,
     "metadata": {},
     "output_type": "execute_result"
    }
   ],
   "source": [
    "np.prod(x1,axis=1)"
   ]
  },
  {
   "cell_type": "code",
   "execution_count": 16,
   "id": "0978add8",
   "metadata": {},
   "outputs": [],
   "source": [
    "y=np.arange(1,10,dtype=float).reshape(3,3)"
   ]
  },
  {
   "cell_type": "code",
   "execution_count": 17,
   "id": "59fc1b52",
   "metadata": {},
   "outputs": [
    {
     "data": {
      "text/plain": [
       "array([[1., 2., 3.],\n",
       "       [4., 5., 6.],\n",
       "       [7., 8., 9.]])"
      ]
     },
     "execution_count": 17,
     "metadata": {},
     "output_type": "execute_result"
    }
   ],
   "source": [
    "y"
   ]
  },
  {
   "cell_type": "code",
   "execution_count": 22,
   "id": "750defc2",
   "metadata": {},
   "outputs": [],
   "source": [
    "y[1,1]=np.nan"
   ]
  },
  {
   "cell_type": "code",
   "execution_count": 23,
   "id": "95138b89",
   "metadata": {},
   "outputs": [
    {
     "data": {
      "text/plain": [
       "array([[ 1.,  2.,  3.],\n",
       "       [ 4., nan,  6.],\n",
       "       [ 7.,  8.,  9.]])"
      ]
     },
     "execution_count": 23,
     "metadata": {},
     "output_type": "execute_result"
    }
   ],
   "source": [
    "y"
   ]
  },
  {
   "cell_type": "code",
   "execution_count": 24,
   "id": "a5e3f109",
   "metadata": {},
   "outputs": [
    {
     "data": {
      "text/plain": [
       "nan"
      ]
     },
     "execution_count": 24,
     "metadata": {},
     "output_type": "execute_result"
    }
   ],
   "source": [
    "np.sum(y)"
   ]
  },
  {
   "cell_type": "code",
   "execution_count": 25,
   "id": "47242d0f",
   "metadata": {},
   "outputs": [
    {
     "data": {
      "text/plain": [
       "40.0"
      ]
     },
     "execution_count": 25,
     "metadata": {},
     "output_type": "execute_result"
    }
   ],
   "source": [
    "np.nansum(y)"
   ]
  },
  {
   "cell_type": "code",
   "execution_count": 30,
   "id": "d0a7e4bd",
   "metadata": {},
   "outputs": [
    {
     "data": {
      "text/plain": [
       "array([12., 10., 18.])"
      ]
     },
     "execution_count": 30,
     "metadata": {},
     "output_type": "execute_result"
    }
   ],
   "source": [
    "np.nansum(y,axis=0)"
   ]
  },
  {
   "cell_type": "code",
   "execution_count": 26,
   "id": "42846d4d",
   "metadata": {},
   "outputs": [
    {
     "data": {
      "text/plain": [
       "nan"
      ]
     },
     "execution_count": 26,
     "metadata": {},
     "output_type": "execute_result"
    }
   ],
   "source": [
    "np.prod(y)"
   ]
  },
  {
   "cell_type": "code",
   "execution_count": 27,
   "id": "3c472d28",
   "metadata": {},
   "outputs": [
    {
     "data": {
      "text/plain": [
       "72576.0"
      ]
     },
     "execution_count": 27,
     "metadata": {},
     "output_type": "execute_result"
    }
   ],
   "source": [
    "np.nanprod(y)"
   ]
  },
  {
   "cell_type": "code",
   "execution_count": 28,
   "id": "cd3cecad",
   "metadata": {},
   "outputs": [
    {
     "data": {
      "text/plain": [
       "array([ 28.,  16., 162.])"
      ]
     },
     "execution_count": 28,
     "metadata": {},
     "output_type": "execute_result"
    }
   ],
   "source": [
    "np.nanprod(y,axis=0)"
   ]
  },
  {
   "cell_type": "code",
   "execution_count": 29,
   "id": "8edb6223",
   "metadata": {},
   "outputs": [
    {
     "data": {
      "text/plain": [
       "array([  6.,  24., 504.])"
      ]
     },
     "execution_count": 29,
     "metadata": {},
     "output_type": "execute_result"
    }
   ],
   "source": [
    "np.nanprod(y,axis=1)"
   ]
  },
  {
   "cell_type": "code",
   "execution_count": 31,
   "id": "24310fbe",
   "metadata": {},
   "outputs": [
    {
     "data": {
      "text/plain": [
       "array([ 1,  3,  6, 10, 15], dtype=int32)"
      ]
     },
     "execution_count": 31,
     "metadata": {},
     "output_type": "execute_result"
    }
   ],
   "source": [
    "z=np.array([1,2,3,4,5])\n",
    "np.cumsum(z)"
   ]
  },
  {
   "cell_type": "code",
   "execution_count": 32,
   "id": "111ed0f7",
   "metadata": {},
   "outputs": [
    {
     "data": {
      "text/plain": [
       "array([[1, 2, 3],\n",
       "       [4, 5, 6],\n",
       "       [7, 8, 9]])"
      ]
     },
     "execution_count": 32,
     "metadata": {},
     "output_type": "execute_result"
    }
   ],
   "source": [
    "x1"
   ]
  },
  {
   "cell_type": "code",
   "execution_count": 33,
   "id": "65dc94c3",
   "metadata": {},
   "outputs": [
    {
     "data": {
      "text/plain": [
       "array([ 1,  3,  6, 10, 15, 21, 28, 36, 45], dtype=int32)"
      ]
     },
     "execution_count": 33,
     "metadata": {},
     "output_type": "execute_result"
    }
   ],
   "source": [
    "np.cumsum(x1)"
   ]
  },
  {
   "cell_type": "code",
   "execution_count": 34,
   "id": "8afc90aa",
   "metadata": {},
   "outputs": [
    {
     "data": {
      "text/plain": [
       "array([[ 1,  2,  3],\n",
       "       [ 5,  7,  9],\n",
       "       [12, 15, 18]], dtype=int32)"
      ]
     },
     "execution_count": 34,
     "metadata": {},
     "output_type": "execute_result"
    }
   ],
   "source": [
    "np.cumsum(x1,axis=0)"
   ]
  },
  {
   "cell_type": "code",
   "execution_count": 35,
   "id": "a1be7e72",
   "metadata": {},
   "outputs": [
    {
     "data": {
      "text/plain": [
       "array([[ 1,  3,  6],\n",
       "       [ 4,  9, 15],\n",
       "       [ 7, 15, 24]], dtype=int32)"
      ]
     },
     "execution_count": 35,
     "metadata": {},
     "output_type": "execute_result"
    }
   ],
   "source": [
    "np.cumsum(x1,axis=1)"
   ]
  },
  {
   "cell_type": "code",
   "execution_count": 37,
   "id": "31791a56",
   "metadata": {},
   "outputs": [
    {
     "data": {
      "text/plain": [
       "array([[  1,   2,   3],\n",
       "       [  4,  10,  18],\n",
       "       [ 28,  80, 162]], dtype=int32)"
      ]
     },
     "execution_count": 37,
     "metadata": {},
     "output_type": "execute_result"
    }
   ],
   "source": [
    "np.cumprod(x1,axis=0)"
   ]
  },
  {
   "cell_type": "code",
   "execution_count": 39,
   "id": "dc372a1e",
   "metadata": {},
   "outputs": [
    {
     "data": {
      "text/plain": [
       "array([[  1,   2,   6],\n",
       "       [  4,  20, 120],\n",
       "       [  7,  56, 504]], dtype=int32)"
      ]
     },
     "execution_count": 39,
     "metadata": {},
     "output_type": "execute_result"
    }
   ],
   "source": [
    "np.cumprod(x1,axis=1)"
   ]
  },
  {
   "cell_type": "code",
   "execution_count": 38,
   "id": "90bc38f1",
   "metadata": {},
   "outputs": [
    {
     "data": {
      "text/plain": [
       "array([     1,      2,      6,     24,    120,    720,   5040,  40320,\n",
       "       362880], dtype=int32)"
      ]
     },
     "execution_count": 38,
     "metadata": {},
     "output_type": "execute_result"
    }
   ],
   "source": [
    "np.cumprod(x1)"
   ]
  },
  {
   "cell_type": "code",
   "execution_count": 40,
   "id": "cd5c1f4a",
   "metadata": {},
   "outputs": [
    {
     "data": {
      "text/plain": [
       "array([[ 1.,  2.,  3.],\n",
       "       [ 4., nan,  6.],\n",
       "       [ 7.,  8.,  9.]])"
      ]
     },
     "execution_count": 40,
     "metadata": {},
     "output_type": "execute_result"
    }
   ],
   "source": [
    "y"
   ]
  },
  {
   "cell_type": "code",
   "execution_count": 41,
   "id": "813c84c3",
   "metadata": {},
   "outputs": [
    {
     "data": {
      "text/plain": [
       "array([[ 1.,  2.,  3.],\n",
       "       [ 5.,  2.,  9.],\n",
       "       [12., 10., 18.]])"
      ]
     },
     "execution_count": 41,
     "metadata": {},
     "output_type": "execute_result"
    }
   ],
   "source": [
    "np.nancumsum(y,axis=0)"
   ]
  },
  {
   "cell_type": "code",
   "execution_count": 42,
   "id": "0d98bc9c",
   "metadata": {},
   "outputs": [
    {
     "data": {
      "text/plain": [
       "array([[  1.,   2.,   3.],\n",
       "       [  4.,   2.,  18.],\n",
       "       [ 28.,  16., 162.]])"
      ]
     },
     "execution_count": 42,
     "metadata": {},
     "output_type": "execute_result"
    }
   ],
   "source": [
    "np.nancumprod(y,axis=0)"
   ]
  },
  {
   "cell_type": "code",
   "execution_count": 43,
   "id": "1044e2a8",
   "metadata": {},
   "outputs": [
    {
     "data": {
      "text/plain": [
       "array([1, 2, 3, 4, 5])"
      ]
     },
     "execution_count": 43,
     "metadata": {},
     "output_type": "execute_result"
    }
   ],
   "source": [
    "x"
   ]
  },
  {
   "cell_type": "code",
   "execution_count": 44,
   "id": "9006a9d0",
   "metadata": {},
   "outputs": [
    {
     "data": {
      "text/plain": [
       "1"
      ]
     },
     "execution_count": 44,
     "metadata": {},
     "output_type": "execute_result"
    }
   ],
   "source": [
    "np.min(x)"
   ]
  },
  {
   "cell_type": "code",
   "execution_count": 45,
   "id": "6788cf23",
   "metadata": {},
   "outputs": [
    {
     "data": {
      "text/plain": [
       "5"
      ]
     },
     "execution_count": 45,
     "metadata": {},
     "output_type": "execute_result"
    }
   ],
   "source": [
    "np.max(x)"
   ]
  },
  {
   "cell_type": "code",
   "execution_count": 46,
   "id": "320edebe",
   "metadata": {},
   "outputs": [
    {
     "data": {
      "text/plain": [
       "array([[1, 2, 3],\n",
       "       [4, 5, 6],\n",
       "       [7, 8, 9]])"
      ]
     },
     "execution_count": 46,
     "metadata": {},
     "output_type": "execute_result"
    }
   ],
   "source": [
    "x1"
   ]
  },
  {
   "cell_type": "code",
   "execution_count": 47,
   "id": "a71a4de9",
   "metadata": {},
   "outputs": [
    {
     "data": {
      "text/plain": [
       "array([1, 2, 3])"
      ]
     },
     "execution_count": 47,
     "metadata": {},
     "output_type": "execute_result"
    }
   ],
   "source": [
    "np.min(x1,axis=0)"
   ]
  },
  {
   "cell_type": "code",
   "execution_count": 48,
   "id": "02004974",
   "metadata": {},
   "outputs": [
    {
     "data": {
      "text/plain": [
       "array([3, 6, 9])"
      ]
     },
     "execution_count": 48,
     "metadata": {},
     "output_type": "execute_result"
    }
   ],
   "source": [
    "np.max(x1,axis=1)"
   ]
  },
  {
   "cell_type": "code",
   "execution_count": 49,
   "id": "9bf66ab3",
   "metadata": {},
   "outputs": [
    {
     "data": {
      "text/plain": [
       "array([[ 1.,  2.,  3.],\n",
       "       [ 4., nan,  6.],\n",
       "       [ 7.,  8.,  9.]])"
      ]
     },
     "execution_count": 49,
     "metadata": {},
     "output_type": "execute_result"
    }
   ],
   "source": [
    "y"
   ]
  },
  {
   "cell_type": "code",
   "execution_count": 50,
   "id": "00400975",
   "metadata": {},
   "outputs": [
    {
     "data": {
      "text/plain": [
       "array([7., 8., 9.])"
      ]
     },
     "execution_count": 50,
     "metadata": {},
     "output_type": "execute_result"
    }
   ],
   "source": [
    "np.nanmax(y,axis=0)"
   ]
  },
  {
   "cell_type": "code",
   "execution_count": 33,
   "id": "62988273",
   "metadata": {},
   "outputs": [],
   "source": [
    "import numpy as np\n",
    "a=np.arange(1,10,dtype=float).reshape(3,3)"
   ]
  },
  {
   "cell_type": "code",
   "execution_count": 34,
   "id": "8c93c7a8",
   "metadata": {},
   "outputs": [
    {
     "data": {
      "text/plain": [
       "array([[1., 2., 3.],\n",
       "       [4., 5., 6.],\n",
       "       [7., 8., 9.]])"
      ]
     },
     "execution_count": 34,
     "metadata": {},
     "output_type": "execute_result"
    }
   ],
   "source": [
    "a"
   ]
  },
  {
   "cell_type": "code",
   "execution_count": 35,
   "id": "ee8af73b",
   "metadata": {},
   "outputs": [],
   "source": [
    "a[0,0]=np.inf"
   ]
  },
  {
   "cell_type": "code",
   "execution_count": 36,
   "id": "bf7f5698",
   "metadata": {},
   "outputs": [
    {
     "data": {
      "text/plain": [
       "array([[inf,  2.,  3.],\n",
       "       [ 4.,  5.,  6.],\n",
       "       [ 7.,  8.,  9.]])"
      ]
     },
     "execution_count": 36,
     "metadata": {},
     "output_type": "execute_result"
    }
   ],
   "source": [
    "a"
   ]
  },
  {
   "cell_type": "code",
   "execution_count": 37,
   "id": "84ec0d8b",
   "metadata": {},
   "outputs": [
    {
     "data": {
      "text/plain": [
       "inf"
      ]
     },
     "execution_count": 37,
     "metadata": {},
     "output_type": "execute_result"
    }
   ],
   "source": [
    "np.sum(a)"
   ]
  },
  {
   "cell_type": "code",
   "execution_count": 38,
   "id": "d6d80e95",
   "metadata": {},
   "outputs": [
    {
     "ename": "AttributeError",
     "evalue": "module 'numpy' has no attribute 'infmax'",
     "output_type": "error",
     "traceback": [
      "\u001b[1;31m---------------------------------------------------------------------------\u001b[0m",
      "\u001b[1;31mAttributeError\u001b[0m                            Traceback (most recent call last)",
      "Input \u001b[1;32mIn [38]\u001b[0m, in \u001b[0;36m<cell line: 1>\u001b[1;34m()\u001b[0m\n\u001b[1;32m----> 1\u001b[0m \u001b[43mnp\u001b[49m\u001b[38;5;241;43m.\u001b[39;49m\u001b[43minfmax\u001b[49m(a,axis\u001b[38;5;241m=\u001b[39m\u001b[38;5;241m1\u001b[39m)\n",
      "File \u001b[1;32m~\\anaconda3\\lib\\site-packages\\numpy\\__init__.py:313\u001b[0m, in \u001b[0;36m__getattr__\u001b[1;34m(attr)\u001b[0m\n\u001b[0;32m    310\u001b[0m     \u001b[38;5;28;01mfrom\u001b[39;00m \u001b[38;5;21;01m.\u001b[39;00m\u001b[38;5;21;01mtesting\u001b[39;00m \u001b[38;5;28;01mimport\u001b[39;00m Tester\n\u001b[0;32m    311\u001b[0m     \u001b[38;5;28;01mreturn\u001b[39;00m Tester\n\u001b[1;32m--> 313\u001b[0m \u001b[38;5;28;01mraise\u001b[39;00m \u001b[38;5;167;01mAttributeError\u001b[39;00m(\u001b[38;5;124m\"\u001b[39m\u001b[38;5;124mmodule \u001b[39m\u001b[38;5;132;01m{!r}\u001b[39;00m\u001b[38;5;124m has no attribute \u001b[39m\u001b[38;5;124m\"\u001b[39m\n\u001b[0;32m    314\u001b[0m                      \u001b[38;5;124m\"\u001b[39m\u001b[38;5;132;01m{!r}\u001b[39;00m\u001b[38;5;124m\"\u001b[39m\u001b[38;5;241m.\u001b[39mformat(\u001b[38;5;18m__name__\u001b[39m, attr))\n",
      "\u001b[1;31mAttributeError\u001b[0m: module 'numpy' has no attribute 'infmax'"
     ]
    }
   ],
   "source": [
    "np.infmax(a,axis=1)"
   ]
  },
  {
   "cell_type": "code",
   "execution_count": 39,
   "id": "c097ceda",
   "metadata": {},
   "outputs": [],
   "source": [
    "a[np.isinf(a)]=0"
   ]
  },
  {
   "cell_type": "code",
   "execution_count": 40,
   "id": "280d12d2",
   "metadata": {},
   "outputs": [
    {
     "data": {
      "text/plain": [
       "array([[0., 2., 3.],\n",
       "       [4., 5., 6.],\n",
       "       [7., 8., 9.]])"
      ]
     },
     "execution_count": 40,
     "metadata": {},
     "output_type": "execute_result"
    }
   ],
   "source": [
    "a"
   ]
  },
  {
   "cell_type": "code",
   "execution_count": 41,
   "id": "98ffd247",
   "metadata": {},
   "outputs": [
    {
     "data": {
      "text/plain": [
       "44.0"
      ]
     },
     "execution_count": 41,
     "metadata": {},
     "output_type": "execute_result"
    }
   ],
   "source": [
    "np.sum(a)"
   ]
  },
  {
   "cell_type": "code",
   "execution_count": 55,
   "id": "802eb61b",
   "metadata": {},
   "outputs": [
    {
     "data": {
      "text/plain": [
       "array([[1., 2., 3.],\n",
       "       [4., 5., 6.],\n",
       "       [7., 8., 9.]])"
      ]
     },
     "execution_count": 55,
     "metadata": {},
     "output_type": "execute_result"
    }
   ],
   "source": [
    "a"
   ]
  },
  {
   "cell_type": "code",
   "execution_count": 56,
   "id": "f8dfad4f",
   "metadata": {},
   "outputs": [
    {
     "data": {
      "text/plain": [
       "array([4., 5., 6.])"
      ]
     },
     "execution_count": 56,
     "metadata": {},
     "output_type": "execute_result"
    }
   ],
   "source": [
    "np.mean(a,axis=0)"
   ]
  },
  {
   "cell_type": "code",
   "execution_count": 57,
   "id": "5d93c6e2",
   "metadata": {},
   "outputs": [],
   "source": [
    "b=np.array([1,2,3,4,5])"
   ]
  },
  {
   "cell_type": "code",
   "execution_count": 58,
   "id": "7fe3c6ef",
   "metadata": {},
   "outputs": [
    {
     "data": {
      "text/plain": [
       "3.0"
      ]
     },
     "execution_count": 58,
     "metadata": {},
     "output_type": "execute_result"
    }
   ],
   "source": [
    "np.mean(b)"
   ]
  },
  {
   "cell_type": "code",
   "execution_count": 59,
   "id": "d1584a54",
   "metadata": {},
   "outputs": [
    {
     "data": {
      "text/plain": [
       "array([2., 5., 8.])"
      ]
     },
     "execution_count": 59,
     "metadata": {},
     "output_type": "execute_result"
    }
   ],
   "source": [
    "np.median(a,axis=1)"
   ]
  },
  {
   "cell_type": "code",
   "execution_count": 62,
   "id": "132a1e45",
   "metadata": {},
   "outputs": [],
   "source": [
    "c=np.array([1,2,3,4,5,6])"
   ]
  },
  {
   "cell_type": "code",
   "execution_count": 63,
   "id": "d6f73cab",
   "metadata": {},
   "outputs": [
    {
     "data": {
      "text/plain": [
       "3.5"
      ]
     },
     "execution_count": 63,
     "metadata": {},
     "output_type": "execute_result"
    }
   ],
   "source": [
    "np.median(c)"
   ]
  },
  {
   "cell_type": "markdown",
   "id": "33a2d880",
   "metadata": {},
   "source": [
    "                    How to find out unique elements in n dimensional array"
   ]
  },
  {
   "cell_type": "code",
   "execution_count": 64,
   "id": "7e3a90f2",
   "metadata": {},
   "outputs": [],
   "source": [
    "c=np.array([1,2,3,4,5,6])"
   ]
  },
  {
   "cell_type": "code",
   "execution_count": 65,
   "id": "1438c9d6",
   "metadata": {},
   "outputs": [
    {
     "data": {
      "text/plain": [
       "array([1, 2, 3, 4, 5, 6])"
      ]
     },
     "execution_count": 65,
     "metadata": {},
     "output_type": "execute_result"
    }
   ],
   "source": [
    "np.unique(c)"
   ]
  },
  {
   "cell_type": "code",
   "execution_count": 66,
   "id": "9c39cf70",
   "metadata": {},
   "outputs": [],
   "source": [
    "c=np.array([1,2,3,1,1,4,2,3,3,5,6,4,5])"
   ]
  },
  {
   "cell_type": "code",
   "execution_count": 67,
   "id": "c62a7371",
   "metadata": {},
   "outputs": [
    {
     "data": {
      "text/plain": [
       "array([1, 2, 3, 4, 5, 6])"
      ]
     },
     "execution_count": 67,
     "metadata": {},
     "output_type": "execute_result"
    }
   ],
   "source": [
    "np.unique(c)"
   ]
  },
  {
   "cell_type": "code",
   "execution_count": 68,
   "id": "d1661b73",
   "metadata": {},
   "outputs": [
    {
     "data": {
      "text/plain": [
       "(array([1, 2, 3, 4, 5, 6]), array([3, 2, 3, 2, 2, 1], dtype=int64))"
      ]
     },
     "execution_count": 68,
     "metadata": {},
     "output_type": "execute_result"
    }
   ],
   "source": [
    "np.unique(c,return_counts=True)   # return_counts give count of each element"
   ]
  },
  {
   "cell_type": "code",
   "execution_count": 69,
   "id": "1105d39b",
   "metadata": {},
   "outputs": [],
   "source": [
    "x1,y1=np.unique(c,return_counts=True)"
   ]
  },
  {
   "cell_type": "code",
   "execution_count": 70,
   "id": "9fd18e83",
   "metadata": {},
   "outputs": [
    {
     "data": {
      "text/plain": [
       "array([1, 2, 3, 4, 5, 6])"
      ]
     },
     "execution_count": 70,
     "metadata": {},
     "output_type": "execute_result"
    }
   ],
   "source": [
    "x1"
   ]
  },
  {
   "cell_type": "code",
   "execution_count": 71,
   "id": "191f00f0",
   "metadata": {},
   "outputs": [
    {
     "data": {
      "text/plain": [
       "array([3, 2, 3, 2, 2, 1], dtype=int64)"
      ]
     },
     "execution_count": 71,
     "metadata": {},
     "output_type": "execute_result"
    }
   ],
   "source": [
    "y1"
   ]
  },
  {
   "cell_type": "code",
   "execution_count": 80,
   "id": "b5f7dc23",
   "metadata": {},
   "outputs": [],
   "source": [
    "x3=np.arange(1,10).reshape(3,3)"
   ]
  },
  {
   "cell_type": "code",
   "execution_count": 81,
   "id": "9af47bc4",
   "metadata": {},
   "outputs": [
    {
     "data": {
      "text/plain": [
       "array([[1, 2, 3],\n",
       "       [4, 5, 6],\n",
       "       [7, 8, 9]])"
      ]
     },
     "execution_count": 81,
     "metadata": {},
     "output_type": "execute_result"
    }
   ],
   "source": [
    "x3"
   ]
  },
  {
   "cell_type": "code",
   "execution_count": 83,
   "id": "6b906212",
   "metadata": {},
   "outputs": [
    {
     "data": {
      "text/plain": [
       "(array([1, 2, 3, 4, 5, 6, 7, 8, 9]),\n",
       " array([1, 1, 1, 1, 1, 1, 1, 1, 1], dtype=int64))"
      ]
     },
     "execution_count": 83,
     "metadata": {},
     "output_type": "execute_result"
    }
   ],
   "source": [
    "np.unique(x3,return_counts=True)"
   ]
  },
  {
   "cell_type": "markdown",
   "id": "678169f1",
   "metadata": {},
   "source": [
    "                transpose"
   ]
  },
  {
   "cell_type": "code",
   "execution_count": 93,
   "id": "b7daddc7",
   "metadata": {},
   "outputs": [],
   "source": [
    "x=np.array([[1,2,3],[4,5,6]])"
   ]
  },
  {
   "cell_type": "code",
   "execution_count": 94,
   "id": "dc4ffa46",
   "metadata": {},
   "outputs": [
    {
     "data": {
      "text/plain": [
       "(2, 3)"
      ]
     },
     "execution_count": 94,
     "metadata": {},
     "output_type": "execute_result"
    }
   ],
   "source": [
    "x.shape"
   ]
  },
  {
   "cell_type": "code",
   "execution_count": 95,
   "id": "54e1311b",
   "metadata": {},
   "outputs": [
    {
     "data": {
      "text/plain": [
       "array([[1],\n",
       "       [2],\n",
       "       [3],\n",
       "       [4],\n",
       "       [5],\n",
       "       [6]])"
      ]
     },
     "execution_count": 95,
     "metadata": {},
     "output_type": "execute_result"
    }
   ],
   "source": [
    "x.reshape(6,1)"
   ]
  },
  {
   "cell_type": "code",
   "execution_count": 96,
   "id": "4e63aa60",
   "metadata": {},
   "outputs": [],
   "source": [
    "x=x.T"
   ]
  },
  {
   "cell_type": "code",
   "execution_count": 97,
   "id": "e4160c50",
   "metadata": {},
   "outputs": [
    {
     "data": {
      "text/plain": [
       "array([[1, 4],\n",
       "       [2, 5],\n",
       "       [3, 6]])"
      ]
     },
     "execution_count": 97,
     "metadata": {},
     "output_type": "execute_result"
    }
   ],
   "source": [
    "x"
   ]
  },
  {
   "cell_type": "code",
   "execution_count": 98,
   "id": "83f2c211",
   "metadata": {},
   "outputs": [
    {
     "data": {
      "text/plain": [
       "(3, 2)"
      ]
     },
     "execution_count": 98,
     "metadata": {},
     "output_type": "execute_result"
    }
   ],
   "source": [
    "x.shape"
   ]
  },
  {
   "cell_type": "code",
   "execution_count": 99,
   "id": "df2a914f",
   "metadata": {},
   "outputs": [],
   "source": [
    "# flatten()----return copy of original array.If u modify the array ,value of original array is not affected.\n",
    "# ravel()------return reference/view of original array.If u modify the array ,value of original array also changes."
   ]
  },
  {
   "cell_type": "code",
   "execution_count": 59,
   "id": "8d976290",
   "metadata": {},
   "outputs": [],
   "source": [
    "x1=np.arange(1,10).reshape(3,3)"
   ]
  },
  {
   "cell_type": "code",
   "execution_count": 60,
   "id": "38b702cc",
   "metadata": {},
   "outputs": [
    {
     "data": {
      "text/plain": [
       "array([[1, 2, 3],\n",
       "       [4, 5, 6],\n",
       "       [7, 8, 9]])"
      ]
     },
     "execution_count": 60,
     "metadata": {},
     "output_type": "execute_result"
    }
   ],
   "source": [
    "x1"
   ]
  },
  {
   "cell_type": "code",
   "execution_count": 61,
   "id": "32f7f16a",
   "metadata": {},
   "outputs": [
    {
     "data": {
      "text/plain": [
       "array([1, 2, 3, 4, 5, 6, 7, 8, 9])"
      ]
     },
     "execution_count": 61,
     "metadata": {},
     "output_type": "execute_result"
    }
   ],
   "source": [
    "x1.flatten()"
   ]
  },
  {
   "cell_type": "code",
   "execution_count": 62,
   "id": "ed251192",
   "metadata": {},
   "outputs": [
    {
     "data": {
      "text/plain": [
       "array([1, 2, 3, 4, 5, 6, 7, 8, 9])"
      ]
     },
     "execution_count": 62,
     "metadata": {},
     "output_type": "execute_result"
    }
   ],
   "source": [
    "x1.ravel()"
   ]
  },
  {
   "cell_type": "code",
   "execution_count": 63,
   "id": "869b8ba2",
   "metadata": {},
   "outputs": [],
   "source": [
    "y=x1.ravel()"
   ]
  },
  {
   "cell_type": "code",
   "execution_count": 64,
   "id": "bd1c9fd4",
   "metadata": {},
   "outputs": [
    {
     "data": {
      "text/plain": [
       "array([1, 2, 3, 4, 5, 6, 7, 8, 9])"
      ]
     },
     "execution_count": 64,
     "metadata": {},
     "output_type": "execute_result"
    }
   ],
   "source": [
    "y"
   ]
  },
  {
   "cell_type": "code",
   "execution_count": 65,
   "id": "c1a5d150",
   "metadata": {},
   "outputs": [
    {
     "data": {
      "text/plain": [
       "array([[1, 2, 3],\n",
       "       [4, 5, 6],\n",
       "       [7, 8, 9]])"
      ]
     },
     "execution_count": 65,
     "metadata": {},
     "output_type": "execute_result"
    }
   ],
   "source": [
    "x1"
   ]
  },
  {
   "cell_type": "code",
   "execution_count": 66,
   "id": "8133554e",
   "metadata": {},
   "outputs": [],
   "source": [
    "y[0]=0"
   ]
  },
  {
   "cell_type": "code",
   "execution_count": 67,
   "id": "13664a8b",
   "metadata": {},
   "outputs": [
    {
     "data": {
      "text/plain": [
       "array([0, 2, 3, 4, 5, 6, 7, 8, 9])"
      ]
     },
     "execution_count": 67,
     "metadata": {},
     "output_type": "execute_result"
    }
   ],
   "source": [
    "y"
   ]
  },
  {
   "cell_type": "code",
   "execution_count": 68,
   "id": "b15f3d06",
   "metadata": {},
   "outputs": [
    {
     "data": {
      "text/plain": [
       "array([[0, 2, 3],\n",
       "       [4, 5, 6],\n",
       "       [7, 8, 9]])"
      ]
     },
     "execution_count": 68,
     "metadata": {},
     "output_type": "execute_result"
    }
   ],
   "source": [
    "x1"
   ]
  },
  {
   "cell_type": "code",
   "execution_count": 69,
   "id": "cd85d172",
   "metadata": {},
   "outputs": [],
   "source": [
    "b=x1.flatten()"
   ]
  },
  {
   "cell_type": "code",
   "execution_count": 70,
   "id": "11e6d65b",
   "metadata": {},
   "outputs": [
    {
     "data": {
      "text/plain": [
       "array([0, 2, 3, 4, 5, 6, 7, 8, 9])"
      ]
     },
     "execution_count": 70,
     "metadata": {},
     "output_type": "execute_result"
    }
   ],
   "source": [
    "b"
   ]
  },
  {
   "cell_type": "code",
   "execution_count": 71,
   "id": "6e038ca1",
   "metadata": {},
   "outputs": [],
   "source": [
    "b[0]=100"
   ]
  },
  {
   "cell_type": "code",
   "execution_count": 72,
   "id": "f664cd0d",
   "metadata": {},
   "outputs": [
    {
     "data": {
      "text/plain": [
       "array([100,   2,   3,   4,   5,   6,   7,   8,   9])"
      ]
     },
     "execution_count": 72,
     "metadata": {},
     "output_type": "execute_result"
    }
   ],
   "source": [
    "b"
   ]
  },
  {
   "cell_type": "code",
   "execution_count": 73,
   "id": "0c401ab4",
   "metadata": {},
   "outputs": [
    {
     "data": {
      "text/plain": [
       "array([[0, 2, 3],\n",
       "       [4, 5, 6],\n",
       "       [7, 8, 9]])"
      ]
     },
     "execution_count": 73,
     "metadata": {},
     "output_type": "execute_result"
    }
   ],
   "source": [
    "x1"
   ]
  },
  {
   "cell_type": "code",
   "execution_count": 116,
   "id": "e7d2a1ef",
   "metadata": {},
   "outputs": [],
   "source": [
    "#   how to repeat the elements n no.of times"
   ]
  },
  {
   "cell_type": "code",
   "execution_count": 135,
   "id": "8b8320af",
   "metadata": {},
   "outputs": [],
   "source": [
    "x=np.array([1,2,3,4,5])"
   ]
  },
  {
   "cell_type": "code",
   "execution_count": 136,
   "id": "7da79762",
   "metadata": {},
   "outputs": [
    {
     "data": {
      "text/plain": [
       "array([1, 2, 3, 4, 5])"
      ]
     },
     "execution_count": 136,
     "metadata": {},
     "output_type": "execute_result"
    }
   ],
   "source": [
    "x"
   ]
  },
  {
   "cell_type": "code",
   "execution_count": 137,
   "id": "38b10c0c",
   "metadata": {},
   "outputs": [
    {
     "ename": "TypeError",
     "evalue": "_repeat_dispatcher() missing 1 required positional argument: 'repeats'",
     "output_type": "error",
     "traceback": [
      "\u001b[1;31m---------------------------------------------------------------------------\u001b[0m",
      "\u001b[1;31mTypeError\u001b[0m                                 Traceback (most recent call last)",
      "Input \u001b[1;32mIn [137]\u001b[0m, in \u001b[0;36m<cell line: 1>\u001b[1;34m()\u001b[0m\n\u001b[1;32m----> 1\u001b[0m \u001b[43mnp\u001b[49m\u001b[38;5;241;43m.\u001b[39;49m\u001b[43mrepeat\u001b[49m\u001b[43m(\u001b[49m\u001b[43mx\u001b[49m\u001b[43m)\u001b[49m\n",
      "File \u001b[1;32m<__array_function__ internals>:4\u001b[0m, in \u001b[0;36mrepeat\u001b[1;34m(*args, **kwargs)\u001b[0m\n",
      "\u001b[1;31mTypeError\u001b[0m: _repeat_dispatcher() missing 1 required positional argument: 'repeats'"
     ]
    }
   ],
   "source": [
    "np.repeat(x)"
   ]
  },
  {
   "cell_type": "code",
   "execution_count": 119,
   "id": "7cfab284",
   "metadata": {},
   "outputs": [
    {
     "data": {
      "text/plain": [
       "array([1, 1, 2, 2, 3, 3, 4, 4, 5, 5])"
      ]
     },
     "execution_count": 119,
     "metadata": {},
     "output_type": "execute_result"
    }
   ],
   "source": [
    "np.repeat(x,2)"
   ]
  },
  {
   "cell_type": "code",
   "execution_count": 120,
   "id": "eaab5e2a",
   "metadata": {},
   "outputs": [
    {
     "data": {
      "text/plain": [
       "array([1, 1, 1, 1, 1, 2, 2, 2, 2, 2, 3, 3, 3, 3, 3, 4, 4, 4, 4, 4, 5, 5,\n",
       "       5, 5, 5])"
      ]
     },
     "execution_count": 120,
     "metadata": {},
     "output_type": "execute_result"
    }
   ],
   "source": [
    "np.repeat(x,5)"
   ]
  },
  {
   "cell_type": "code",
   "execution_count": 131,
   "id": "ebf2788f",
   "metadata": {},
   "outputs": [],
   "source": [
    "x=np.arange(1,10).reshape(3,3)"
   ]
  },
  {
   "cell_type": "code",
   "execution_count": 132,
   "id": "533a83e2",
   "metadata": {},
   "outputs": [
    {
     "data": {
      "text/plain": [
       "array([[1, 2, 3],\n",
       "       [4, 5, 6],\n",
       "       [7, 8, 9]])"
      ]
     },
     "execution_count": 132,
     "metadata": {},
     "output_type": "execute_result"
    }
   ],
   "source": [
    "x"
   ]
  },
  {
   "cell_type": "code",
   "execution_count": 134,
   "id": "ca34c77d",
   "metadata": {},
   "outputs": [
    {
     "data": {
      "text/plain": [
       "array([1, 1, 2, 2, 3, 3, 4, 4, 5, 5, 6, 6, 7, 7, 8, 8, 9, 9])"
      ]
     },
     "execution_count": 134,
     "metadata": {},
     "output_type": "execute_result"
    }
   ],
   "source": [
    "np.repeat(x,2)"
   ]
  },
  {
   "cell_type": "code",
   "execution_count": 125,
   "id": "cf72843e",
   "metadata": {},
   "outputs": [],
   "source": [
    "# how to repeat the array n no. of time"
   ]
  },
  {
   "cell_type": "code",
   "execution_count": 126,
   "id": "0fdf3989",
   "metadata": {},
   "outputs": [
    {
     "data": {
      "text/plain": [
       "array([[1, 2, 3],\n",
       "       [4, 5, 6],\n",
       "       [7, 8, 9]])"
      ]
     },
     "execution_count": 126,
     "metadata": {},
     "output_type": "execute_result"
    }
   ],
   "source": [
    "x"
   ]
  },
  {
   "cell_type": "code",
   "execution_count": 127,
   "id": "466ca6b4",
   "metadata": {},
   "outputs": [
    {
     "data": {
      "text/plain": [
       "array([[1, 2, 3, 1, 2, 3],\n",
       "       [4, 5, 6, 4, 5, 6],\n",
       "       [7, 8, 9, 7, 8, 9]])"
      ]
     },
     "execution_count": 127,
     "metadata": {},
     "output_type": "execute_result"
    }
   ],
   "source": [
    "np.tile(x,2)"
   ]
  },
  {
   "cell_type": "code",
   "execution_count": 128,
   "id": "8d477a40",
   "metadata": {},
   "outputs": [
    {
     "data": {
      "text/plain": [
       "array([[1, 2, 3, 1, 2, 3, 1, 2, 3, 1, 2, 3, 1, 2, 3],\n",
       "       [4, 5, 6, 4, 5, 6, 4, 5, 6, 4, 5, 6, 4, 5, 6],\n",
       "       [7, 8, 9, 7, 8, 9, 7, 8, 9, 7, 8, 9, 7, 8, 9]])"
      ]
     },
     "execution_count": 128,
     "metadata": {},
     "output_type": "execute_result"
    }
   ],
   "source": [
    "np.tile(x,5)"
   ]
  },
  {
   "cell_type": "code",
   "execution_count": 129,
   "id": "f95e469b",
   "metadata": {},
   "outputs": [
    {
     "data": {
      "text/plain": [
       "array([[1, 2, 3, 1, 2, 3, 1, 2, 3],\n",
       "       [4, 5, 6, 4, 5, 6, 4, 5, 6],\n",
       "       [7, 8, 9, 7, 8, 9, 7, 8, 9]])"
      ]
     },
     "execution_count": 129,
     "metadata": {},
     "output_type": "execute_result"
    }
   ],
   "source": [
    "np.tile(x,(1,3))"
   ]
  },
  {
   "cell_type": "code",
   "execution_count": 130,
   "id": "a952ac37",
   "metadata": {},
   "outputs": [
    {
     "data": {
      "text/plain": [
       "array([[1, 2, 3],\n",
       "       [4, 5, 6],\n",
       "       [7, 8, 9],\n",
       "       [1, 2, 3],\n",
       "       [4, 5, 6],\n",
       "       [7, 8, 9]])"
      ]
     },
     "execution_count": 130,
     "metadata": {},
     "output_type": "execute_result"
    }
   ],
   "source": [
    "np.tile(x,(2,1))"
   ]
  },
  {
   "cell_type": "code",
   "execution_count": 145,
   "id": "289b4518",
   "metadata": {},
   "outputs": [],
   "source": [
    "# try to create zero function on your own"
   ]
  },
  {
   "cell_type": "code",
   "execution_count": 1,
   "id": "fd93c169",
   "metadata": {},
   "outputs": [],
   "source": [
    "def zero(rows,columns,matrix=[]):\n",
    "    for x in range(0,rows):\n",
    "        matrix.append([0 for y in range(0,rows)])\n",
    "        return matrix"
   ]
  },
  {
   "cell_type": "code",
   "execution_count": 2,
   "id": "ec47b2ca",
   "metadata": {},
   "outputs": [
    {
     "data": {
      "text/plain": [
       "[[0, 0]]"
      ]
     },
     "execution_count": 2,
     "metadata": {},
     "output_type": "execute_result"
    }
   ],
   "source": [
    "zero(2,3)"
   ]
  },
  {
   "cell_type": "code",
   "execution_count": 85,
   "id": "f242ff67",
   "metadata": {},
   "outputs": [
    {
     "data": {
      "text/plain": [
       "[0]"
      ]
     },
     "execution_count": 85,
     "metadata": {},
     "output_type": "execute_result"
    }
   ],
   "source": [
    "def zero(rows,columns,matrix=[]):\n",
    "    for x in range(0,rows):\n",
    "        matrix.append(x)\n",
    "        return matrix\n",
    "    for y in range(0,coumns):\n",
    "        matrix.append(y)\n",
    "        return matrix\n",
    "zero(2,3)    "
   ]
  },
  {
   "cell_type": "code",
   "execution_count": 43,
   "id": "6dc91d7c",
   "metadata": {},
   "outputs": [],
   "source": [
    "x=np.arange(1,10).reshape(3,3)"
   ]
  },
  {
   "cell_type": "code",
   "execution_count": 44,
   "id": "99526280",
   "metadata": {},
   "outputs": [
    {
     "data": {
      "text/plain": [
       "array([[1, 2, 3],\n",
       "       [4, 5, 6],\n",
       "       [7, 8, 9]])"
      ]
     },
     "execution_count": 44,
     "metadata": {},
     "output_type": "execute_result"
    }
   ],
   "source": [
    "x"
   ]
  },
  {
   "cell_type": "code",
   "execution_count": 60,
   "id": "dd9f5b70",
   "metadata": {},
   "outputs": [
    {
     "data": {
      "text/plain": [
       "array([[0., 0.],\n",
       "       [0., 0.],\n",
       "       [0., 0.]])"
      ]
     },
     "execution_count": 60,
     "metadata": {},
     "output_type": "execute_result"
    }
   ],
   "source": [
    "np.zeros([3,2])"
   ]
  },
  {
   "cell_type": "code",
   "execution_count": 56,
   "id": "0bc03392",
   "metadata": {},
   "outputs": [],
   "source": [
    "def zeros(n,m=0):\n",
    "    l=[]\n",
    "    if m==0:\n",
    "        for z in range(n):\n",
    "            l.append(0)\n",
    "    else:\n",
    "        for y in range(n):\n",
    "            l.append([])\n",
    "            for z in range(m):\n",
    "                l[y].append(0)\n",
    "    \n",
    "    return l             "
   ]
  },
  {
   "cell_type": "code",
   "execution_count": 58,
   "id": "a8c24ab0",
   "metadata": {},
   "outputs": [
    {
     "data": {
      "text/plain": [
       "[[0, 0], [0, 0], [0, 0], [0, 0], [0, 0]]"
      ]
     },
     "execution_count": 58,
     "metadata": {},
     "output_type": "execute_result"
    }
   ],
   "source": [
    "zeros(5,2)"
   ]
  },
  {
   "cell_type": "code",
   "execution_count": 4,
   "id": "2e36ae67",
   "metadata": {},
   "outputs": [
    {
     "data": {
      "text/plain": [
       "[[1, 1], [1, 1], [1, 1], [1, 1], [1, 1]]"
      ]
     },
     "execution_count": 4,
     "metadata": {},
     "output_type": "execute_result"
    }
   ],
   "source": [
    "def ones(n,m=0):\n",
    "    l=[]\n",
    "    if m==0:\n",
    "        for z in range(n):\n",
    "            l.append(1)\n",
    "    else:\n",
    "        for y in range(n):\n",
    "            l.append([])\n",
    "            for z in range(m):\n",
    "                l[y].append(1)\n",
    "    \n",
    "    return l \n",
    "ones(5,2)"
   ]
  },
  {
   "cell_type": "code",
   "execution_count": 53,
   "id": "26caee95",
   "metadata": {},
   "outputs": [],
   "source": [
    "l=[]\n",
    "for y in range(3):\n",
    "        l.append([])"
   ]
  },
  {
   "cell_type": "code",
   "execution_count": 54,
   "id": "6057a823",
   "metadata": {},
   "outputs": [
    {
     "data": {
      "text/plain": [
       "[[], [], []]"
      ]
     },
     "execution_count": 54,
     "metadata": {},
     "output_type": "execute_result"
    }
   ],
   "source": [
    "l"
   ]
  },
  {
   "cell_type": "code",
   "execution_count": 1,
   "id": "69436ad2",
   "metadata": {},
   "outputs": [
    {
     "data": {
      "text/plain": [
       "[0, 0, 0, 0, 0]"
      ]
     },
     "execution_count": 1,
     "metadata": {},
     "output_type": "execute_result"
    }
   ],
   "source": [
    "def zeros(n,m=0):\n",
    "    l=[]\n",
    "    if m==0:\n",
    "        for z in range(n):\n",
    "            l.append(0)\n",
    "    else:\n",
    "        for y in range(n):\n",
    "            l.append([])\n",
    "            for z in range(m):\n",
    "                l[y].append(0)\n",
    "    \n",
    "    return l             \n",
    "zeros(5,0)"
   ]
  },
  {
   "cell_type": "code",
   "execution_count": 7,
   "id": "5bfc2666",
   "metadata": {},
   "outputs": [
    {
     "ename": "TypeError",
     "evalue": "'int' object is not iterable",
     "output_type": "error",
     "traceback": [
      "\u001b[1;31m---------------------------------------------------------------------------\u001b[0m",
      "\u001b[1;31mTypeError\u001b[0m                                 Traceback (most recent call last)",
      "Input \u001b[1;32mIn [7]\u001b[0m, in \u001b[0;36m<cell line: 13>\u001b[1;34m()\u001b[0m\n\u001b[0;32m     10\u001b[0m                 l[y]\u001b[38;5;241m.\u001b[39mextend(\u001b[38;5;241m2\u001b[39m)\n\u001b[0;32m     12\u001b[0m     \u001b[38;5;28;01mreturn\u001b[39;00m l\n\u001b[1;32m---> 13\u001b[0m \u001b[43mdiffnum\u001b[49m\u001b[43m(\u001b[49m\u001b[38;5;241;43m5\u001b[39;49m\u001b[43m,\u001b[49m\u001b[38;5;241;43m2\u001b[39;49m\u001b[43m)\u001b[49m\n",
      "Input \u001b[1;32mIn [7]\u001b[0m, in \u001b[0;36mdiffnum\u001b[1;34m(n, m)\u001b[0m\n\u001b[0;32m      8\u001b[0m         l\u001b[38;5;241m.\u001b[39mappend([])\n\u001b[0;32m      9\u001b[0m         \u001b[38;5;28;01mfor\u001b[39;00m z \u001b[38;5;129;01min\u001b[39;00m \u001b[38;5;28mrange\u001b[39m(m):\n\u001b[1;32m---> 10\u001b[0m             \u001b[43ml\u001b[49m\u001b[43m[\u001b[49m\u001b[43my\u001b[49m\u001b[43m]\u001b[49m\u001b[38;5;241;43m.\u001b[39;49m\u001b[43mextend\u001b[49m\u001b[43m(\u001b[49m\u001b[38;5;241;43m2\u001b[39;49m\u001b[43m)\u001b[49m\n\u001b[0;32m     12\u001b[0m \u001b[38;5;28;01mreturn\u001b[39;00m l\n",
      "\u001b[1;31mTypeError\u001b[0m: 'int' object is not iterable"
     ]
    }
   ],
   "source": [
    "def diffnum(n,m=0):\n",
    "    l=[]\n",
    "    if m==0:\n",
    "        for z in range(n):\n",
    "            l.append(0)\n",
    "    else:\n",
    "        for y in range(n):\n",
    "            l.append([])\n",
    "            for z in range(m):\n",
    "                l[y].extend(2)\n",
    "    \n",
    "    return l\n",
    "diffnum(5,2)"
   ]
  },
  {
   "cell_type": "code",
   "execution_count": 1,
   "id": "d858a508",
   "metadata": {},
   "outputs": [],
   "source": [
    "import numpy as np"
   ]
  },
  {
   "cell_type": "code",
   "execution_count": 5,
   "id": "8f7d1e64",
   "metadata": {},
   "outputs": [],
   "source": [
    "x=np.arange(1,16).reshape(5,3)"
   ]
  },
  {
   "cell_type": "code",
   "execution_count": 6,
   "id": "6d0a6694",
   "metadata": {},
   "outputs": [
    {
     "data": {
      "text/plain": [
       "array([[ 1,  2,  3],\n",
       "       [ 4,  5,  6],\n",
       "       [ 7,  8,  9],\n",
       "       [10, 11, 12],\n",
       "       [13, 14, 15]])"
      ]
     },
     "execution_count": 6,
     "metadata": {},
     "output_type": "execute_result"
    }
   ],
   "source": [
    "x"
   ]
  },
  {
   "cell_type": "code",
   "execution_count": 7,
   "id": "9149757f",
   "metadata": {},
   "outputs": [],
   "source": [
    "# get the index value\n",
    "# where()"
   ]
  },
  {
   "cell_type": "code",
   "execution_count": 9,
   "id": "bb241e06",
   "metadata": {},
   "outputs": [],
   "source": [
    "y=np.arange(1,10)"
   ]
  },
  {
   "cell_type": "code",
   "execution_count": 10,
   "id": "583053f9",
   "metadata": {},
   "outputs": [
    {
     "data": {
      "text/plain": [
       "array([1, 2, 3, 4, 5, 6, 7, 8, 9])"
      ]
     },
     "execution_count": 10,
     "metadata": {},
     "output_type": "execute_result"
    }
   ],
   "source": [
    "y"
   ]
  },
  {
   "cell_type": "code",
   "execution_count": 12,
   "id": "81fc898e",
   "metadata": {},
   "outputs": [
    {
     "data": {
      "text/plain": [
       "array([False, False, False,  True,  True,  True,  True,  True,  True])"
      ]
     },
     "execution_count": 12,
     "metadata": {},
     "output_type": "execute_result"
    }
   ],
   "source": [
    "y>3"
   ]
  },
  {
   "cell_type": "code",
   "execution_count": 13,
   "id": "8b37d929",
   "metadata": {},
   "outputs": [
    {
     "data": {
      "text/plain": [
       "array([4, 5, 6, 7, 8, 9])"
      ]
     },
     "execution_count": 13,
     "metadata": {},
     "output_type": "execute_result"
    }
   ],
   "source": [
    "y[y>3]"
   ]
  },
  {
   "cell_type": "code",
   "execution_count": 14,
   "id": "3eb003ef",
   "metadata": {},
   "outputs": [
    {
     "data": {
      "text/plain": [
       "(array([3, 4, 5, 6, 7, 8], dtype=int64),)"
      ]
     },
     "execution_count": 14,
     "metadata": {},
     "output_type": "execute_result"
    }
   ],
   "source": [
    "np.where(y>3)"
   ]
  },
  {
   "cell_type": "code",
   "execution_count": 15,
   "id": "4a54fd1b",
   "metadata": {},
   "outputs": [],
   "source": [
    "z=np.arange(20,30)"
   ]
  },
  {
   "cell_type": "code",
   "execution_count": 16,
   "id": "db7a5fed",
   "metadata": {},
   "outputs": [
    {
     "data": {
      "text/plain": [
       "array([20, 21, 22, 23, 24, 25, 26, 27, 28, 29])"
      ]
     },
     "execution_count": 16,
     "metadata": {},
     "output_type": "execute_result"
    }
   ],
   "source": [
    "z"
   ]
  },
  {
   "cell_type": "code",
   "execution_count": 17,
   "id": "a356d3d0",
   "metadata": {},
   "outputs": [
    {
     "data": {
      "text/plain": [
       "array([ True, False,  True, False,  True, False,  True, False,  True,\n",
       "       False])"
      ]
     },
     "execution_count": 17,
     "metadata": {},
     "output_type": "execute_result"
    }
   ],
   "source": [
    "z%2==0"
   ]
  },
  {
   "cell_type": "code",
   "execution_count": 18,
   "id": "9b12b0e0",
   "metadata": {},
   "outputs": [
    {
     "data": {
      "text/plain": [
       "(array([0, 2, 4, 6, 8], dtype=int64),)"
      ]
     },
     "execution_count": 18,
     "metadata": {},
     "output_type": "execute_result"
    }
   ],
   "source": [
    "np.where(z%2==0)    # this is index value"
   ]
  },
  {
   "cell_type": "code",
   "execution_count": 19,
   "id": "92174f46",
   "metadata": {},
   "outputs": [
    {
     "data": {
      "text/plain": [
       "(array([], dtype=int64),)"
      ]
     },
     "execution_count": 19,
     "metadata": {},
     "output_type": "execute_result"
    }
   ],
   "source": [
    "np.where((z%3==0) & (z%5==0))"
   ]
  },
  {
   "cell_type": "code",
   "execution_count": 16,
   "id": "23c06ec9",
   "metadata": {},
   "outputs": [],
   "source": [
    "import numpy as np\n",
    "x=np.arange(1,16).reshape(3,5)"
   ]
  },
  {
   "cell_type": "code",
   "execution_count": 17,
   "id": "5f811de2",
   "metadata": {},
   "outputs": [
    {
     "data": {
      "text/plain": [
       "array([[ 1,  2,  3,  4,  5],\n",
       "       [ 6,  7,  8,  9, 10],\n",
       "       [11, 12, 13, 14, 15]])"
      ]
     },
     "execution_count": 17,
     "metadata": {},
     "output_type": "execute_result"
    }
   ],
   "source": [
    "x"
   ]
  },
  {
   "cell_type": "code",
   "execution_count": 18,
   "id": "7c3544d4",
   "metadata": {},
   "outputs": [
    {
     "data": {
      "text/plain": [
       "array([[False,  True, False,  True, False],\n",
       "       [ True, False,  True, False,  True],\n",
       "       [False,  True, False,  True, False]])"
      ]
     },
     "execution_count": 18,
     "metadata": {},
     "output_type": "execute_result"
    }
   ],
   "source": [
    "x%2==0"
   ]
  },
  {
   "cell_type": "code",
   "execution_count": 19,
   "id": "30f256c0",
   "metadata": {},
   "outputs": [
    {
     "data": {
      "text/plain": [
       "(array([0, 0, 1, 1, 1, 2, 2], dtype=int64),\n",
       " array([1, 3, 0, 2, 4, 1, 3], dtype=int64))"
      ]
     },
     "execution_count": 19,
     "metadata": {},
     "output_type": "execute_result"
    }
   ],
   "source": [
    "np.where(x%2==0)  #1 st row values ,2 nd array column values"
   ]
  },
  {
   "cell_type": "code",
   "execution_count": 20,
   "id": "19f8afb1",
   "metadata": {},
   "outputs": [],
   "source": [
    "x=np.where(x%2==0)"
   ]
  },
  {
   "cell_type": "code",
   "execution_count": 21,
   "id": "3c0a0529",
   "metadata": {},
   "outputs": [
    {
     "ename": "AttributeError",
     "evalue": "'tuple' object has no attribute 'take'",
     "output_type": "error",
     "traceback": [
      "\u001b[1;31m---------------------------------------------------------------------------\u001b[0m",
      "\u001b[1;31mAttributeError\u001b[0m                            Traceback (most recent call last)",
      "Input \u001b[1;32mIn [21]\u001b[0m, in \u001b[0;36m<cell line: 1>\u001b[1;34m()\u001b[0m\n\u001b[1;32m----> 1\u001b[0m \u001b[43mx\u001b[49m\u001b[38;5;241;43m.\u001b[39;49m\u001b[43mtake\u001b[49m(np\u001b[38;5;241m.\u001b[39mwhere(x\u001b[38;5;241m%\u001b[39m\u001b[38;5;241m2\u001b[39m\u001b[38;5;241m==\u001b[39m\u001b[38;5;241m0\u001b[39m))\n",
      "\u001b[1;31mAttributeError\u001b[0m: 'tuple' object has no attribute 'take'"
     ]
    }
   ],
   "source": [
    "x.take(np.where(x%2==0))"
   ]
  },
  {
   "cell_type": "code",
   "execution_count": 9,
   "id": "44d9529e",
   "metadata": {},
   "outputs": [],
   "source": [
    "import numpy as np\n",
    "z=np.arange(20,30)"
   ]
  },
  {
   "cell_type": "code",
   "execution_count": 10,
   "id": "cb25d595",
   "metadata": {},
   "outputs": [
    {
     "data": {
      "text/plain": [
       "array([20, 21, 22, 23, 24, 25, 26, 27, 28, 29])"
      ]
     },
     "execution_count": 10,
     "metadata": {},
     "output_type": "execute_result"
    }
   ],
   "source": [
    "z"
   ]
  },
  {
   "cell_type": "code",
   "execution_count": 14,
   "id": "ce53bc9d",
   "metadata": {},
   "outputs": [
    {
     "data": {
      "text/plain": [
       "array([[20, 22, 24, 26, 28]])"
      ]
     },
     "execution_count": 14,
     "metadata": {},
     "output_type": "execute_result"
    }
   ],
   "source": [
    "z.take(np.where(z%2==0))   #take function only work in 1d"
   ]
  },
  {
   "cell_type": "code",
   "execution_count": 15,
   "id": "3e00e897",
   "metadata": {},
   "outputs": [
    {
     "data": {
      "text/plain": [
       "array([20, 21, 22, 23, 24, 25, 26, 27, 28, 29])"
      ]
     },
     "execution_count": 15,
     "metadata": {},
     "output_type": "execute_result"
    }
   ],
   "source": [
    "z"
   ]
  },
  {
   "cell_type": "code",
   "execution_count": 11,
   "id": "8c0f460a",
   "metadata": {},
   "outputs": [
    {
     "data": {
      "text/plain": [
       "array([False, False, False, False, False,  True,  True,  True,  True,\n",
       "        True])"
      ]
     },
     "execution_count": 11,
     "metadata": {},
     "output_type": "execute_result"
    }
   ],
   "source": [
    "np.where(z>24,True,False)"
   ]
  },
  {
   "cell_type": "code",
   "execution_count": 13,
   "id": "953edca4",
   "metadata": {},
   "outputs": [
    {
     "ename": "NameError",
     "evalue": "name 'greater' is not defined",
     "output_type": "error",
     "traceback": [
      "\u001b[1;31m---------------------------------------------------------------------------\u001b[0m",
      "\u001b[1;31mNameError\u001b[0m                                 Traceback (most recent call last)",
      "Input \u001b[1;32mIn [13]\u001b[0m, in \u001b[0;36m<cell line: 1>\u001b[1;34m()\u001b[0m\n\u001b[1;32m----> 1\u001b[0m np\u001b[38;5;241m.\u001b[39mwhere(z\u001b[38;5;241m>\u001b[39m\u001b[38;5;241m24\u001b[39m,\u001b[43mgreater\u001b[49m,lesser)\n",
      "\u001b[1;31mNameError\u001b[0m: name 'greater' is not defined"
     ]
    }
   ],
   "source": [
    "np.where(z>24,gr)"
   ]
  },
  {
   "cell_type": "code",
   "execution_count": 37,
   "id": "42128dbe",
   "metadata": {},
   "outputs": [
    {
     "data": {
      "text/plain": [
       "array([[ 1,  2,  3,  4,  5],\n",
       "       [ 6,  7,  8,  9, 10],\n",
       "       [11, 12, 13, 14, 15]])"
      ]
     },
     "execution_count": 37,
     "metadata": {},
     "output_type": "execute_result"
    }
   ],
   "source": [
    "x"
   ]
  },
  {
   "cell_type": "code",
   "execution_count": 38,
   "id": "7c1eb7dd",
   "metadata": {},
   "outputs": [
    {
     "data": {
      "text/plain": [
       "array([ 2,  4,  6,  8, 10, 12, 14])"
      ]
     },
     "execution_count": 38,
     "metadata": {},
     "output_type": "execute_result"
    }
   ],
   "source": [
    "x[x%2==0]"
   ]
  },
  {
   "cell_type": "code",
   "execution_count": 39,
   "id": "5be1d581",
   "metadata": {},
   "outputs": [
    {
     "data": {
      "text/plain": [
       "array([[False,  True, False,  True, False],\n",
       "       [ True, False,  True, False,  True],\n",
       "       [False,  True, False,  True, False]])"
      ]
     },
     "execution_count": 39,
     "metadata": {},
     "output_type": "execute_result"
    }
   ],
   "source": [
    "np.where(x%2==0,True,False)"
   ]
  },
  {
   "cell_type": "code",
   "execution_count": 40,
   "id": "1884b7cd",
   "metadata": {},
   "outputs": [
    {
     "data": {
      "text/plain": [
       "array([ 2,  4,  6,  8, 10, 12, 14])"
      ]
     },
     "execution_count": 40,
     "metadata": {},
     "output_type": "execute_result"
    }
   ],
   "source": [
    "x[np.where(x%2==0,True,False)]"
   ]
  },
  {
   "cell_type": "code",
   "execution_count": 41,
   "id": "a25e5c98",
   "metadata": {},
   "outputs": [
    {
     "data": {
      "text/plain": [
       "(array([0, 0, 1, 1, 1, 2, 2], dtype=int64),\n",
       " array([1, 3, 0, 2, 4, 1, 3], dtype=int64))"
      ]
     },
     "execution_count": 41,
     "metadata": {},
     "output_type": "execute_result"
    }
   ],
   "source": [
    "np.where(x%2==0)"
   ]
  },
  {
   "cell_type": "code",
   "execution_count": null,
   "id": "eca6e4f7",
   "metadata": {},
   "outputs": [],
   "source": []
  }
 ],
 "metadata": {
  "kernelspec": {
   "display_name": "Python 3 (ipykernel)",
   "language": "python",
   "name": "python3"
  },
  "language_info": {
   "codemirror_mode": {
    "name": "ipython",
    "version": 3
   },
   "file_extension": ".py",
   "mimetype": "text/x-python",
   "name": "python",
   "nbconvert_exporter": "python",
   "pygments_lexer": "ipython3",
   "version": "3.9.13"
  }
 },
 "nbformat": 4,
 "nbformat_minor": 5
}
