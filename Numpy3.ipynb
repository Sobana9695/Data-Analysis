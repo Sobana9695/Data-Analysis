{
 "cells": [
  {
   "cell_type": "code",
   "execution_count": 1,
   "id": "c5ee30c9",
   "metadata": {},
   "outputs": [],
   "source": [
    "# how to combine multiple array into a single array by using concatenation,column vise merging,row wise merging"
   ]
  },
  {
   "cell_type": "code",
   "execution_count": 49,
   "id": "dfd539a9",
   "metadata": {},
   "outputs": [],
   "source": [
    "import numpy as np\n",
    "x1=np.arange(0,4).reshape(2,2)"
   ]
  },
  {
   "cell_type": "code",
   "execution_count": 50,
   "id": "67ddc193",
   "metadata": {},
   "outputs": [
    {
     "data": {
      "text/plain": [
       "array([[0, 1],\n",
       "       [2, 3]])"
      ]
     },
     "execution_count": 50,
     "metadata": {},
     "output_type": "execute_result"
    }
   ],
   "source": [
    "x1"
   ]
  },
  {
   "cell_type": "code",
   "execution_count": 51,
   "id": "8eaa7180",
   "metadata": {},
   "outputs": [],
   "source": [
    "x2=np.arange(4,8).reshape(2,2)"
   ]
  },
  {
   "cell_type": "code",
   "execution_count": 52,
   "id": "d93ee0e2",
   "metadata": {},
   "outputs": [
    {
     "data": {
      "text/plain": [
       "array([[4, 5],\n",
       "       [6, 7]])"
      ]
     },
     "execution_count": 52,
     "metadata": {},
     "output_type": "execute_result"
    }
   ],
   "source": [
    "x2"
   ]
  },
  {
   "cell_type": "code",
   "execution_count": 53,
   "id": "daa5e599",
   "metadata": {},
   "outputs": [
    {
     "data": {
      "text/plain": [
       "array([[0, 1],\n",
       "       [2, 3],\n",
       "       [4, 5],\n",
       "       [6, 7]])"
      ]
     },
     "execution_count": 53,
     "metadata": {},
     "output_type": "execute_result"
    }
   ],
   "source": [
    "np.concatenate([x1,x2],axis=0)"
   ]
  },
  {
   "cell_type": "code",
   "execution_count": 54,
   "id": "e29cb8c9",
   "metadata": {},
   "outputs": [
    {
     "data": {
      "text/plain": [
       "array([[0, 1, 4, 5],\n",
       "       [2, 3, 6, 7]])"
      ]
     },
     "execution_count": 54,
     "metadata": {},
     "output_type": "execute_result"
    }
   ],
   "source": [
    "np.concatenate([x1,x2],axis=1)"
   ]
  },
  {
   "cell_type": "code",
   "execution_count": 55,
   "id": "78a130a8",
   "metadata": {},
   "outputs": [
    {
     "data": {
      "text/plain": [
       "array([[0, 1, 4, 5],\n",
       "       [2, 3, 6, 7]])"
      ]
     },
     "execution_count": 55,
     "metadata": {},
     "output_type": "execute_result"
    }
   ],
   "source": [
    "np.hstack([x1,x2])"
   ]
  },
  {
   "cell_type": "code",
   "execution_count": 56,
   "id": "d76ae547",
   "metadata": {},
   "outputs": [
    {
     "data": {
      "text/plain": [
       "array([[0, 1],\n",
       "       [2, 3],\n",
       "       [4, 5],\n",
       "       [6, 7]])"
      ]
     },
     "execution_count": 56,
     "metadata": {},
     "output_type": "execute_result"
    }
   ],
   "source": [
    "np.vstack([x1,x2])"
   ]
  },
  {
   "cell_type": "code",
   "execution_count": 12,
   "id": "40116112",
   "metadata": {},
   "outputs": [],
   "source": [
    "z=np.arange(20,30)"
   ]
  },
  {
   "cell_type": "code",
   "execution_count": 13,
   "id": "f1e32e13",
   "metadata": {},
   "outputs": [
    {
     "data": {
      "text/plain": [
       "array([20, 21, 22, 23, 24, 25, 26, 27, 28, 29])"
      ]
     },
     "execution_count": 13,
     "metadata": {},
     "output_type": "execute_result"
    }
   ],
   "source": [
    "z"
   ]
  },
  {
   "cell_type": "code",
   "execution_count": 15,
   "id": "cf7bdf9c",
   "metadata": {},
   "outputs": [
    {
     "data": {
      "text/plain": [
       "20"
      ]
     },
     "execution_count": 15,
     "metadata": {},
     "output_type": "execute_result"
    }
   ],
   "source": [
    "np.min(z)"
   ]
  },
  {
   "cell_type": "code",
   "execution_count": 16,
   "id": "4afde06e",
   "metadata": {},
   "outputs": [
    {
     "data": {
      "text/plain": [
       "0"
      ]
     },
     "execution_count": 16,
     "metadata": {},
     "output_type": "execute_result"
    }
   ],
   "source": [
    "np.argmin(z)   # get min index value"
   ]
  },
  {
   "cell_type": "code",
   "execution_count": 17,
   "id": "ce45069f",
   "metadata": {},
   "outputs": [
    {
     "data": {
      "text/plain": [
       "9"
      ]
     },
     "execution_count": 17,
     "metadata": {},
     "output_type": "execute_result"
    }
   ],
   "source": [
    "np.argmax(z)   #get max index value"
   ]
  },
  {
   "cell_type": "code",
   "execution_count": 18,
   "id": "48a06b3a",
   "metadata": {},
   "outputs": [],
   "source": [
    "x=np.array([1,2,3,4])\n",
    "y=np.array([5,6,7,8])"
   ]
  },
  {
   "cell_type": "code",
   "execution_count": 19,
   "id": "3bd92436",
   "metadata": {},
   "outputs": [
    {
     "data": {
      "text/plain": [
       "array([1, 2, 3, 4])"
      ]
     },
     "execution_count": 19,
     "metadata": {},
     "output_type": "execute_result"
    }
   ],
   "source": [
    "x"
   ]
  },
  {
   "cell_type": "code",
   "execution_count": 20,
   "id": "6da53a89",
   "metadata": {},
   "outputs": [
    {
     "data": {
      "text/plain": [
       "array([5, 6, 7, 8])"
      ]
     },
     "execution_count": 20,
     "metadata": {},
     "output_type": "execute_result"
    }
   ],
   "source": [
    "y"
   ]
  },
  {
   "cell_type": "code",
   "execution_count": 21,
   "id": "301999b7",
   "metadata": {},
   "outputs": [
    {
     "data": {
      "text/plain": [
       "array([ True,  True,  True,  True])"
      ]
     },
     "execution_count": 21,
     "metadata": {},
     "output_type": "execute_result"
    }
   ],
   "source": [
    "np.logical_and(x,y)"
   ]
  },
  {
   "cell_type": "code",
   "execution_count": 22,
   "id": "95399730",
   "metadata": {},
   "outputs": [
    {
     "data": {
      "text/plain": [
       "array([ True,  True,  True,  True])"
      ]
     },
     "execution_count": 22,
     "metadata": {},
     "output_type": "execute_result"
    }
   ],
   "source": [
    "np.logical_or(x,y)"
   ]
  },
  {
   "cell_type": "code",
   "execution_count": 23,
   "id": "5aa54375",
   "metadata": {},
   "outputs": [],
   "source": [
    "x=np.array([0,2,3,4])\n",
    "y=np.array([5,6,7,8])"
   ]
  },
  {
   "cell_type": "code",
   "execution_count": 24,
   "id": "e4a86941",
   "metadata": {},
   "outputs": [
    {
     "data": {
      "text/plain": [
       "array([False,  True,  True,  True])"
      ]
     },
     "execution_count": 24,
     "metadata": {},
     "output_type": "execute_result"
    }
   ],
   "source": [
    "np.logical_and(x,y)"
   ]
  },
  {
   "cell_type": "code",
   "execution_count": 25,
   "id": "9fddb2a5",
   "metadata": {},
   "outputs": [
    {
     "data": {
      "text/plain": [
       "array([ True,  True,  True,  True])"
      ]
     },
     "execution_count": 25,
     "metadata": {},
     "output_type": "execute_result"
    }
   ],
   "source": [
    "np.logical_or(x,y)"
   ]
  },
  {
   "cell_type": "code",
   "execution_count": 26,
   "id": "c7f3ef35",
   "metadata": {},
   "outputs": [],
   "source": [
    "# all=check only one array ,if all true ,return true or else return false\n",
    "#  any=check only one array ,if any value is true,return true\n",
    "  "
   ]
  },
  {
   "cell_type": "code",
   "execution_count": 27,
   "id": "206700e4",
   "metadata": {},
   "outputs": [],
   "source": [
    "z=np.arange(0,20,2).reshape(2,5)"
   ]
  },
  {
   "cell_type": "code",
   "execution_count": 28,
   "id": "77744482",
   "metadata": {},
   "outputs": [
    {
     "data": {
      "text/plain": [
       "array([[ True,  True,  True,  True,  True],\n",
       "       [ True,  True,  True,  True,  True]])"
      ]
     },
     "execution_count": 28,
     "metadata": {},
     "output_type": "execute_result"
    }
   ],
   "source": [
    "z%2==0"
   ]
  },
  {
   "cell_type": "code",
   "execution_count": 29,
   "id": "ed465a95",
   "metadata": {},
   "outputs": [
    {
     "data": {
      "text/plain": [
       "True"
      ]
     },
     "execution_count": 29,
     "metadata": {},
     "output_type": "execute_result"
    }
   ],
   "source": [
    "np.all(z%2==0)"
   ]
  },
  {
   "cell_type": "code",
   "execution_count": 31,
   "id": "109536d7",
   "metadata": {},
   "outputs": [
    {
     "data": {
      "text/plain": [
       "False"
      ]
     },
     "execution_count": 31,
     "metadata": {},
     "output_type": "execute_result"
    }
   ],
   "source": [
    "np.all((z%2==0) & (z%3==0))"
   ]
  },
  {
   "cell_type": "code",
   "execution_count": 33,
   "id": "3dbfde7d",
   "metadata": {},
   "outputs": [
    {
     "data": {
      "text/plain": [
       "True"
      ]
     },
     "execution_count": 33,
     "metadata": {},
     "output_type": "execute_result"
    }
   ],
   "source": [
    "np.all((z%2==0) | (z%3==0))"
   ]
  },
  {
   "cell_type": "code",
   "execution_count": 34,
   "id": "b9562aa9",
   "metadata": {},
   "outputs": [
    {
     "data": {
      "text/plain": [
       "True"
      ]
     },
     "execution_count": 34,
     "metadata": {},
     "output_type": "execute_result"
    }
   ],
   "source": [
    "np.any((z%2==0) & (z%3==0))"
   ]
  },
  {
   "cell_type": "code",
   "execution_count": 2,
   "id": "ff6d3854",
   "metadata": {},
   "outputs": [],
   "source": [
    "import numpy as np\n",
    "c=np.random.randint(1,10,(20,))"
   ]
  },
  {
   "cell_type": "code",
   "execution_count": 3,
   "id": "0e4e22fb",
   "metadata": {},
   "outputs": [
    {
     "data": {
      "text/plain": [
       "array([1, 9, 4, 3, 9, 2, 7, 8, 6, 4, 4, 4, 1, 3, 6, 9, 1, 1, 7, 1])"
      ]
     },
     "execution_count": 3,
     "metadata": {},
     "output_type": "execute_result"
    }
   ],
   "source": [
    "c"
   ]
  },
  {
   "cell_type": "code",
   "execution_count": 4,
   "id": "e8588963",
   "metadata": {},
   "outputs": [],
   "source": [
    "w=np.sort(c)   # sort in increasing order"
   ]
  },
  {
   "cell_type": "code",
   "execution_count": 5,
   "id": "0efebe74",
   "metadata": {},
   "outputs": [
    {
     "data": {
      "text/plain": [
       "array([1, 1, 1, 1, 1, 2, 3, 3, 4, 4, 4, 4, 6, 6, 7, 7, 8, 9, 9, 9])"
      ]
     },
     "execution_count": 5,
     "metadata": {},
     "output_type": "execute_result"
    }
   ],
   "source": [
    "w"
   ]
  },
  {
   "cell_type": "code",
   "execution_count": 6,
   "id": "107b24e1",
   "metadata": {},
   "outputs": [
    {
     "data": {
      "text/plain": [
       "array([9, 9, 9, 8, 7, 7, 6, 6, 4, 4, 4, 4, 3, 3, 2, 1, 1, 1, 1, 1])"
      ]
     },
     "execution_count": 6,
     "metadata": {},
     "output_type": "execute_result"
    }
   ],
   "source": [
    "w[::-1]"
   ]
  },
  {
   "cell_type": "code",
   "execution_count": 7,
   "id": "c28209ac",
   "metadata": {},
   "outputs": [
    {
     "data": {
      "text/plain": [
       "array([1, 1, 1, 1, 1, 2, 3, 3, 4, 4, 4, 4, 6, 6, 7, 7, 8, 9, 9, 9])"
      ]
     },
     "execution_count": 7,
     "metadata": {},
     "output_type": "execute_result"
    }
   ],
   "source": [
    "w[0::]"
   ]
  },
  {
   "cell_type": "code",
   "execution_count": 40,
   "id": "c6d7e62d",
   "metadata": {},
   "outputs": [],
   "source": [
    "c=np.random.randint(1,10,(10,15))"
   ]
  },
  {
   "cell_type": "code",
   "execution_count": 41,
   "id": "6ac5e3da",
   "metadata": {},
   "outputs": [
    {
     "data": {
      "text/plain": [
       "array([[9, 9, 3, 5, 1, 7, 2, 3, 6, 5, 6, 1, 5, 9, 2],\n",
       "       [4, 9, 2, 7, 7, 7, 7, 5, 5, 6, 8, 1, 5, 3, 6],\n",
       "       [2, 9, 1, 9, 7, 2, 8, 6, 7, 5, 4, 5, 9, 5, 7],\n",
       "       [5, 8, 6, 8, 3, 1, 2, 6, 3, 3, 7, 5, 3, 2, 2],\n",
       "       [3, 6, 9, 3, 3, 1, 5, 4, 7, 6, 3, 7, 5, 6, 9],\n",
       "       [9, 7, 1, 2, 6, 4, 6, 3, 6, 2, 7, 7, 6, 1, 3],\n",
       "       [6, 8, 4, 7, 9, 7, 6, 7, 2, 9, 9, 1, 2, 3, 5],\n",
       "       [2, 5, 5, 9, 7, 7, 4, 6, 1, 1, 2, 1, 7, 8, 1],\n",
       "       [5, 8, 7, 9, 7, 7, 7, 1, 1, 4, 4, 8, 6, 2, 7],\n",
       "       [9, 4, 8, 1, 4, 6, 9, 3, 1, 1, 7, 5, 6, 1, 2]])"
      ]
     },
     "execution_count": 41,
     "metadata": {},
     "output_type": "execute_result"
    }
   ],
   "source": [
    "c"
   ]
  },
  {
   "cell_type": "code",
   "execution_count": 42,
   "id": "e065844c",
   "metadata": {},
   "outputs": [
    {
     "data": {
      "text/plain": [
       "array([[2, 4, 1, 1, 1, 1, 2, 1, 1, 1, 2, 1, 2, 1, 1],\n",
       "       [2, 5, 1, 2, 3, 1, 2, 3, 1, 1, 3, 1, 3, 1, 2],\n",
       "       [3, 6, 2, 3, 3, 2, 4, 3, 1, 2, 4, 1, 5, 2, 2],\n",
       "       [4, 7, 3, 5, 4, 4, 5, 3, 2, 3, 4, 1, 5, 2, 2],\n",
       "       [5, 8, 4, 7, 6, 6, 6, 4, 3, 4, 6, 5, 5, 3, 3],\n",
       "       [5, 8, 5, 7, 7, 7, 6, 5, 5, 5, 7, 5, 6, 3, 5],\n",
       "       [6, 8, 6, 8, 7, 7, 7, 6, 6, 5, 7, 5, 6, 5, 6],\n",
       "       [9, 9, 7, 9, 7, 7, 7, 6, 6, 6, 7, 7, 6, 6, 7],\n",
       "       [9, 9, 8, 9, 7, 7, 8, 6, 7, 6, 8, 7, 7, 8, 7],\n",
       "       [9, 9, 9, 9, 9, 7, 9, 7, 7, 9, 9, 8, 9, 9, 9]])"
      ]
     },
     "execution_count": 42,
     "metadata": {},
     "output_type": "execute_result"
    }
   ],
   "source": [
    "np.sort(c,axis=0)"
   ]
  },
  {
   "cell_type": "code",
   "execution_count": 43,
   "id": "c47bf535",
   "metadata": {},
   "outputs": [
    {
     "data": {
      "text/plain": [
       "array([[1, 1, 2, 2, 3, 3, 5, 5, 5, 6, 6, 7, 9, 9, 9],\n",
       "       [1, 2, 3, 4, 5, 5, 5, 6, 6, 7, 7, 7, 7, 8, 9],\n",
       "       [1, 2, 2, 4, 5, 5, 5, 6, 7, 7, 7, 8, 9, 9, 9],\n",
       "       [1, 2, 2, 2, 3, 3, 3, 3, 5, 5, 6, 6, 7, 8, 8],\n",
       "       [1, 3, 3, 3, 3, 4, 5, 5, 6, 6, 6, 7, 7, 9, 9],\n",
       "       [1, 1, 2, 2, 3, 3, 4, 6, 6, 6, 6, 7, 7, 7, 9],\n",
       "       [1, 2, 2, 3, 4, 5, 6, 6, 7, 7, 7, 8, 9, 9, 9],\n",
       "       [1, 1, 1, 1, 2, 2, 4, 5, 5, 6, 7, 7, 7, 8, 9],\n",
       "       [1, 1, 2, 4, 4, 5, 6, 7, 7, 7, 7, 7, 8, 8, 9],\n",
       "       [1, 1, 1, 1, 2, 3, 4, 4, 5, 6, 6, 7, 8, 9, 9]])"
      ]
     },
     "execution_count": 43,
     "metadata": {},
     "output_type": "execute_result"
    }
   ],
   "source": [
    "np.sort(c,axis=1)"
   ]
  },
  {
   "cell_type": "code",
   "execution_count": 8,
   "id": "119f6eac",
   "metadata": {},
   "outputs": [],
   "source": [
    "a=np.random.randint(1,10,(5,))"
   ]
  },
  {
   "cell_type": "code",
   "execution_count": 9,
   "id": "04fc84c1",
   "metadata": {},
   "outputs": [
    {
     "data": {
      "text/plain": [
       "array([5, 8, 2, 8, 4])"
      ]
     },
     "execution_count": 9,
     "metadata": {},
     "output_type": "execute_result"
    }
   ],
   "source": [
    "a"
   ]
  },
  {
   "cell_type": "code",
   "execution_count": 10,
   "id": "94352873",
   "metadata": {},
   "outputs": [
    {
     "data": {
      "text/plain": [
       "array([2, 4, 5, 8, 8])"
      ]
     },
     "execution_count": 10,
     "metadata": {},
     "output_type": "execute_result"
    }
   ],
   "source": [
    "np.sort(a)"
   ]
  },
  {
   "cell_type": "code",
   "execution_count": 11,
   "id": "c1c109ac",
   "metadata": {},
   "outputs": [
    {
     "data": {
      "text/plain": [
       "array([2, 4, 0, 1, 3], dtype=int64)"
      ]
     },
     "execution_count": 11,
     "metadata": {},
     "output_type": "execute_result"
    }
   ],
   "source": [
    "np.argsort(a)"
   ]
  },
  {
   "cell_type": "code",
   "execution_count": 12,
   "id": "425d1809",
   "metadata": {},
   "outputs": [],
   "source": [
    "import numpy as np\n",
    "b=np.random.randint(1,10,(3,3))"
   ]
  },
  {
   "cell_type": "code",
   "execution_count": 13,
   "id": "82847424",
   "metadata": {},
   "outputs": [
    {
     "data": {
      "text/plain": [
       "array([[1, 9, 7],\n",
       "       [8, 5, 8],\n",
       "       [7, 5, 1]])"
      ]
     },
     "execution_count": 13,
     "metadata": {},
     "output_type": "execute_result"
    }
   ],
   "source": [
    "b"
   ]
  },
  {
   "cell_type": "code",
   "execution_count": 14,
   "id": "7b67aee8",
   "metadata": {},
   "outputs": [
    {
     "data": {
      "text/plain": [
       "array([0, 2, 1], dtype=int64)"
      ]
     },
     "execution_count": 14,
     "metadata": {},
     "output_type": "execute_result"
    }
   ],
   "source": [
    "np.argsort(b[:,0])"
   ]
  },
  {
   "cell_type": "code",
   "execution_count": 15,
   "id": "0575ce6a",
   "metadata": {},
   "outputs": [
    {
     "data": {
      "text/plain": [
       "array([[1, 9, 7],\n",
       "       [7, 5, 1],\n",
       "       [8, 5, 8]])"
      ]
     },
     "execution_count": 15,
     "metadata": {},
     "output_type": "execute_result"
    }
   ],
   "source": [
    "b[np.argsort(b[:,0])]  "
   ]
  },
  {
   "cell_type": "code",
   "execution_count": 16,
   "id": "227b3183",
   "metadata": {},
   "outputs": [
    {
     "data": {
      "text/plain": [
       "array([[7, 5, 1],\n",
       "       [1, 9, 7],\n",
       "       [8, 5, 8]])"
      ]
     },
     "execution_count": 16,
     "metadata": {},
     "output_type": "execute_result"
    }
   ],
   "source": [
    "b[np.argsort(b[:,2])]   "
   ]
  },
  {
   "cell_type": "code",
   "execution_count": 17,
   "id": "ed6a243b",
   "metadata": {},
   "outputs": [
    {
     "data": {
      "text/plain": [
       "array([[8, 5, 8],\n",
       "       [1, 9, 7],\n",
       "       [7, 5, 1]])"
      ]
     },
     "execution_count": 17,
     "metadata": {},
     "output_type": "execute_result"
    }
   ],
   "source": [
    "b[np.argsort(b[1,:])]"
   ]
  },
  {
   "cell_type": "code",
   "execution_count": 26,
   "id": "c5e7a959",
   "metadata": {},
   "outputs": [
    {
     "data": {
      "text/plain": [
       "array([[5, 7, 2],\n",
       "       [9, 3, 5],\n",
       "       [7, 4, 5]])"
      ]
     },
     "execution_count": 26,
     "metadata": {},
     "output_type": "execute_result"
    }
   ],
   "source": [
    "b"
   ]
  },
  {
   "cell_type": "code",
   "execution_count": 27,
   "id": "6c8abe9d",
   "metadata": {},
   "outputs": [],
   "source": [
    "b=b.astype(float)"
   ]
  },
  {
   "cell_type": "code",
   "execution_count": 28,
   "id": "704ae31c",
   "metadata": {},
   "outputs": [
    {
     "data": {
      "text/plain": [
       "array([[5., 7., 2.],\n",
       "       [9., 3., 5.],\n",
       "       [7., 4., 5.]])"
      ]
     },
     "execution_count": 28,
     "metadata": {},
     "output_type": "execute_result"
    }
   ],
   "source": [
    "b"
   ]
  },
  {
   "cell_type": "code",
   "execution_count": 29,
   "id": "2c0ca77d",
   "metadata": {},
   "outputs": [],
   "source": [
    "b=b.astype(complex)"
   ]
  },
  {
   "cell_type": "code",
   "execution_count": 30,
   "id": "135e9ce2",
   "metadata": {},
   "outputs": [
    {
     "data": {
      "text/plain": [
       "array([[5.+0.j, 7.+0.j, 2.+0.j],\n",
       "       [9.+0.j, 3.+0.j, 5.+0.j],\n",
       "       [7.+0.j, 4.+0.j, 5.+0.j]])"
      ]
     },
     "execution_count": 30,
     "metadata": {},
     "output_type": "execute_result"
    }
   ],
   "source": [
    "b"
   ]
  },
  {
   "cell_type": "code",
   "execution_count": 31,
   "id": "8b43a4ba",
   "metadata": {},
   "outputs": [
    {
     "name": "stderr",
     "output_type": "stream",
     "text": [
      "C:\\Users\\SSS\\AppData\\Local\\Temp\\ipykernel_3560\\2615737369.py:1: ComplexWarning: Casting complex values to real discards the imaginary part\n",
      "  b=b.astype(int)\n"
     ]
    }
   ],
   "source": [
    "b=b.astype(int)"
   ]
  },
  {
   "cell_type": "code",
   "execution_count": 32,
   "id": "4af5d280",
   "metadata": {},
   "outputs": [
    {
     "data": {
      "text/plain": [
       "array([[5, 7, 2],\n",
       "       [9, 3, 5],\n",
       "       [7, 4, 5]])"
      ]
     },
     "execution_count": 32,
     "metadata": {},
     "output_type": "execute_result"
    }
   ],
   "source": [
    "b"
   ]
  },
  {
   "cell_type": "code",
   "execution_count": 34,
   "id": "fed60f24",
   "metadata": {},
   "outputs": [],
   "source": [
    "x=b[1:,1:]"
   ]
  },
  {
   "cell_type": "code",
   "execution_count": 35,
   "id": "a8d70d67",
   "metadata": {},
   "outputs": [],
   "source": [
    "x[0,0]=100"
   ]
  },
  {
   "cell_type": "code",
   "execution_count": 36,
   "id": "5162b5c1",
   "metadata": {},
   "outputs": [
    {
     "data": {
      "text/plain": [
       "array([[100,   5],\n",
       "       [  4,   5]])"
      ]
     },
     "execution_count": 36,
     "metadata": {},
     "output_type": "execute_result"
    }
   ],
   "source": [
    "x"
   ]
  },
  {
   "cell_type": "code",
   "execution_count": 37,
   "id": "3fdbf1d2",
   "metadata": {},
   "outputs": [
    {
     "data": {
      "text/plain": [
       "array([[  5,   7,   2],\n",
       "       [  9, 100,   5],\n",
       "       [  7,   4,   5]])"
      ]
     },
     "execution_count": 37,
     "metadata": {},
     "output_type": "execute_result"
    }
   ],
   "source": [
    "b"
   ]
  },
  {
   "cell_type": "code",
   "execution_count": 85,
   "id": "3149b8a4",
   "metadata": {},
   "outputs": [],
   "source": [
    "x=np.arange(1,10)"
   ]
  },
  {
   "cell_type": "code",
   "execution_count": 86,
   "id": "be910806",
   "metadata": {},
   "outputs": [
    {
     "data": {
      "text/plain": [
       "array([1, 2, 3, 4, 5, 6, 7, 8, 9])"
      ]
     },
     "execution_count": 86,
     "metadata": {},
     "output_type": "execute_result"
    }
   ],
   "source": [
    "x"
   ]
  },
  {
   "cell_type": "code",
   "execution_count": 90,
   "id": "35adde06",
   "metadata": {},
   "outputs": [],
   "source": [
    "np.save(\"C:\\\\Users\\\\SSS\\\\Desktop\\\\New folder\\\\sobana.npy\",x)"
   ]
  },
  {
   "cell_type": "code",
   "execution_count": 91,
   "id": "c3012151",
   "metadata": {},
   "outputs": [
    {
     "data": {
      "text/plain": [
       "array([[7, 1, 2],\n",
       "       [8, 3, 8],\n",
       "       [1, 3, 3]])"
      ]
     },
     "execution_count": 91,
     "metadata": {},
     "output_type": "execute_result"
    }
   ],
   "source": [
    "b"
   ]
  },
  {
   "cell_type": "code",
   "execution_count": 102,
   "id": "85d7b643",
   "metadata": {},
   "outputs": [],
   "source": [
    "np.savez(\"C:\\\\Users\\\\SSS\\\\Desktop\\\\New folder (2)\\\\dev.npz\",x,b)\n",
    "w=np.load(\"C:\\\\Users\\\\SSS\\\\Desktop\\\\New folder (2)\\\\dev.npz\")"
   ]
  },
  {
   "cell_type": "code",
   "execution_count": 103,
   "id": "c8aff9e3",
   "metadata": {},
   "outputs": [
    {
     "data": {
      "text/plain": [
       "array([[7, 1, 2],\n",
       "       [8, 3, 8],\n",
       "       [1, 3, 3]])"
      ]
     },
     "execution_count": 103,
     "metadata": {},
     "output_type": "execute_result"
    }
   ],
   "source": [
    "b"
   ]
  },
  {
   "cell_type": "code",
   "execution_count": 104,
   "id": "9dc7a32a",
   "metadata": {},
   "outputs": [
    {
     "data": {
      "text/plain": [
       "array([1, 2, 3, 4, 5, 6, 7, 8, 9])"
      ]
     },
     "execution_count": 104,
     "metadata": {},
     "output_type": "execute_result"
    }
   ],
   "source": [
    "x"
   ]
  },
  {
   "cell_type": "code",
   "execution_count": 105,
   "id": "5085d2d0",
   "metadata": {},
   "outputs": [
    {
     "data": {
      "text/plain": [
       "<numpy.lib.npyio.NpzFile at 0x26926dd9e20>"
      ]
     },
     "execution_count": 105,
     "metadata": {},
     "output_type": "execute_result"
    }
   ],
   "source": [
    "w"
   ]
  },
  {
   "cell_type": "code",
   "execution_count": 106,
   "id": "a5d0ff06",
   "metadata": {},
   "outputs": [
    {
     "data": {
      "text/plain": [
       "['arr_0', 'arr_1']"
      ]
     },
     "execution_count": 106,
     "metadata": {},
     "output_type": "execute_result"
    }
   ],
   "source": [
    "w.files"
   ]
  },
  {
   "cell_type": "code",
   "execution_count": 109,
   "id": "b65ffc2c",
   "metadata": {},
   "outputs": [
    {
     "data": {
      "text/plain": [
       "array([1, 2, 3, 4, 5, 6, 7, 8, 9])"
      ]
     },
     "execution_count": 109,
     "metadata": {},
     "output_type": "execute_result"
    }
   ],
   "source": [
    "w['arr_0']"
   ]
  },
  {
   "cell_type": "code",
   "execution_count": 110,
   "id": "574434d4",
   "metadata": {},
   "outputs": [
    {
     "data": {
      "text/plain": [
       "array([[7, 1, 2],\n",
       "       [8, 3, 8],\n",
       "       [1, 3, 3]])"
      ]
     },
     "execution_count": 110,
     "metadata": {},
     "output_type": "execute_result"
    }
   ],
   "source": [
    "w['arr_1']"
   ]
  },
  {
   "cell_type": "code",
   "execution_count": 93,
   "id": "50003abe",
   "metadata": {},
   "outputs": [],
   "source": [
    "# broadcasting "
   ]
  },
  {
   "cell_type": "code",
   "execution_count": 107,
   "id": "5066fdec",
   "metadata": {},
   "outputs": [
    {
     "data": {
      "text/plain": [
       "array([5, 6, 7])"
      ]
     },
     "execution_count": 107,
     "metadata": {},
     "output_type": "execute_result"
    }
   ],
   "source": [
    "np.arange(3)+5"
   ]
  },
  {
   "cell_type": "code",
   "execution_count": 108,
   "id": "f8e7b544",
   "metadata": {},
   "outputs": [
    {
     "data": {
      "text/plain": [
       "array([[1, 2, 3],\n",
       "       [1, 2, 3],\n",
       "       [1, 2, 3]])"
      ]
     },
     "execution_count": 108,
     "metadata": {},
     "output_type": "execute_result"
    }
   ],
   "source": [
    "np.ones((3,3),dtype=int)+np.arange(3)"
   ]
  },
  {
   "cell_type": "code",
   "execution_count": 99,
   "id": "c1f1ae19",
   "metadata": {},
   "outputs": [
    {
     "data": {
      "text/plain": [
       "array([[0, 1, 2],\n",
       "       [1, 2, 3],\n",
       "       [2, 3, 4]])"
      ]
     },
     "execution_count": 99,
     "metadata": {},
     "output_type": "execute_result"
    }
   ],
   "source": [
    "np.arange(3).reshape(3,1)+np.arange(3)"
   ]
  },
  {
   "cell_type": "code",
   "execution_count": 16,
   "id": "c3222867",
   "metadata": {},
   "outputs": [],
   "source": [
    "u=np.arange(3)"
   ]
  },
  {
   "cell_type": "code",
   "execution_count": 17,
   "id": "b8e889f8",
   "metadata": {},
   "outputs": [
    {
     "data": {
      "text/plain": [
       "array([0, 1, 2])"
      ]
     },
     "execution_count": 17,
     "metadata": {},
     "output_type": "execute_result"
    }
   ],
   "source": [
    "u"
   ]
  },
  {
   "cell_type": "code",
   "execution_count": 18,
   "id": "3a2d12be",
   "metadata": {},
   "outputs": [],
   "source": [
    "v=np.arange(3).reshape(3,1)"
   ]
  },
  {
   "cell_type": "code",
   "execution_count": 19,
   "id": "507249ab",
   "metadata": {},
   "outputs": [
    {
     "data": {
      "text/plain": [
       "array([[0],\n",
       "       [1],\n",
       "       [2]])"
      ]
     },
     "execution_count": 19,
     "metadata": {},
     "output_type": "execute_result"
    }
   ],
   "source": [
    "v"
   ]
  },
  {
   "cell_type": "code",
   "execution_count": 20,
   "id": "3ee80a97",
   "metadata": {},
   "outputs": [
    {
     "data": {
      "text/plain": [
       "array([[0, 1, 2],\n",
       "       [1, 2, 3],\n",
       "       [2, 3, 4]])"
      ]
     },
     "execution_count": 20,
     "metadata": {},
     "output_type": "execute_result"
    }
   ],
   "source": [
    "u+v"
   ]
  },
  {
   "cell_type": "code",
   "execution_count": 18,
   "id": "5e8320f3",
   "metadata": {},
   "outputs": [
    {
     "data": {
      "text/plain": [
       "array([1, 2, 3, 4, 5, 6, 7, 8, 9])"
      ]
     },
     "execution_count": 18,
     "metadata": {},
     "output_type": "execute_result"
    }
   ],
   "source": [
    "np.arange(1,10)"
   ]
  },
  {
   "cell_type": "code",
   "execution_count": null,
   "id": "7c15f94b",
   "metadata": {},
   "outputs": [],
   "source": []
  }
 ],
 "metadata": {
  "kernelspec": {
   "display_name": "Python 3 (ipykernel)",
   "language": "python",
   "name": "python3"
  },
  "language_info": {
   "codemirror_mode": {
    "name": "ipython",
    "version": 3
   },
   "file_extension": ".py",
   "mimetype": "text/x-python",
   "name": "python",
   "nbconvert_exporter": "python",
   "pygments_lexer": "ipython3",
   "version": "3.9.13"
  }
 },
 "nbformat": 4,
 "nbformat_minor": 5
}
